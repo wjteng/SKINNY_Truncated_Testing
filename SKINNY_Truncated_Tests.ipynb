{
  "nbformat": 4,
  "nbformat_minor": 0,
  "metadata": {
    "colab": {
      "provenance": [],
      "authorship_tag": "ABX9TyMDbYYOINGfJaNVP3mU3wgA",
      "include_colab_link": true
    },
    "kernelspec": {
      "name": "python3",
      "display_name": "Python 3"
    },
    "language_info": {
      "name": "python"
    }
  },
  "cells": [
    {
      "cell_type": "markdown",
      "metadata": {
        "id": "view-in-github",
        "colab_type": "text"
      },
      "source": [
        "<a href=\"https://colab.research.google.com/github/wjteng/SKINNY_Truncated_Testing/blob/main/SKINNY_Truncated_Tests.ipynb\" target=\"_parent\"><img src=\"https://colab.research.google.com/assets/colab-badge.svg\" alt=\"Open In Colab\"/></a>"
      ]
    },
    {
      "cell_type": "code",
      "execution_count": null,
      "metadata": {
        "colab": {
          "base_uri": "https://localhost:8080/"
        },
        "id": "JFzITei2VG0Z",
        "outputId": "be9941a2-dce9-4a42-cd5a-3af0e96027f6"
      },
      "outputs": [
        {
          "output_type": "stream",
          "name": "stdout",
          "text": [
            "Mounted at /content/gdrive/\n",
            "Cloning into 'SKINNY_Truncated_Testing'...\n",
            "remote: Enumerating objects: 374, done.\u001b[K\n",
            "remote: Counting objects: 100% (374/374), done.\u001b[K\n",
            "remote: Compressing objects: 100% (148/148), done.\u001b[K\n",
            "remote: Total 374 (delta 223), reused 374 (delta 223), pack-reused 0\u001b[K\n",
            "Receiving objects: 100% (374/374), 131.63 KiB | 1.91 MiB/s, done.\n",
            "Resolving deltas: 100% (223/223), done.\n",
            "Epoch 1/40\n",
            " 64/200 [========>.....................] - ETA: 12:01 - loss: 0.0131 - acc: 0.9940"
          ]
        }
      ],
      "source": [
        "from google.colab import drive\n",
        "drive.mount('/content/gdrive/')\n",
        "import sys\n",
        "\n",
        "\n",
        "\n",
        "!git clone  https://github.com/wjteng/SKINNY_Truncated_Testing.git\n",
        "sys.path.insert(0,'/content/SKINNY_Truncated_Testing')\n",
        "\n",
        "import SKINNY as cipher\n",
        "import pandas as pd\n",
        "import train_nets as tn\n",
        "\n",
        "rounds = 4;\n",
        "epoch = 40;\n",
        "diff1 = 0x2000;\n",
        "diff2 = 0x0002;\n",
        "diff3 = 0x0020;\n",
        "diff4 = 0x0000;\n",
        "\n",
        "name = str(diff1)+\"_\"+str(diff2)+\"_r=\"+str(rounds)+\"_epoch=\"+str(epoch);\n",
        "\n",
        "model, h =tn.train_distinguisher(epoch,(diff1,diff2,diff3,diff4),num_rounds=rounds,depth=10);\n",
        "\n",
        "model.save('/content/gdrive/MyDrive/SKINNY_Truncated_Tests/'+name);"
      ]
    }
  ]
}